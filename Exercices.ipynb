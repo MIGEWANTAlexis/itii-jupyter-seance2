{
 "cells": [
  {
   "cell_type": "code",
   "execution_count": 33,
   "metadata": {},
   "outputs": [
    {
     "name": "stdout",
     "output_type": "stream",
     "text": [
      "30\n",
      "150\n",
      "Addition des deux vecteurs donne le vecteur suivant : x=8, y=10\n"
     ]
    },
    {
     "data": {
      "text/plain": [
       "'456'"
      ]
     },
     "execution_count": 33,
     "metadata": {},
     "output_type": "execute_result"
    }
   ],
   "source": [
    "### Exo 1\n",
    "## Classe rectangle\n",
    "class Rectangle:\n",
    "    def __init__(self,pLongueur,pLargeur):\n",
    "        self.longueur = pLongueur\n",
    "        self.largeur = pLargeur\n",
    "    \n",
    "    def Perimetre(self):\n",
    "        return (self.longueur + self.largeur)*2\n",
    "\n",
    "    def Surface(self):\n",
    "        return (self.longueur * self.largeur)\n",
    "    \n",
    "    def getLongueur(self):\n",
    "        return self.longueur\n",
    "\n",
    "    def getLargeur(self):\n",
    "        return self.largeur\n",
    "    \n",
    "## Affichage d'un rectangle\n",
    "r1 = Rectangle(10,5)\n",
    "print(r1.Perimetre())\n",
    "\n",
    "\n",
    "## Classe Parallelepipede\n",
    "class Parallelepipede (Rectangle):\n",
    "    def __init__(self, pLongueur, pLargeur, pHauteur):\n",
    "        Rectangle.__init__(self,pLongueur,pLargeur)\n",
    "        self.longueur = pLongueur\n",
    "        self.largeur = pLargeur\n",
    "        self.hauteur = pHauteur\n",
    "        \n",
    "    def Volume(self):\n",
    "        return self.Surface() * self.hauteur\n",
    "    \n",
    "## Affichage d'un Parallelepipede\n",
    "p1 = Parallelepipede(10,5,3)\n",
    "print(p1.Volume())\n",
    "\n",
    "### Exo 2\n",
    "## class Vecteur2D\n",
    "class Vecteur2D:\n",
    "    def __init__(self, pX, pY):\n",
    "        self.x = pX\n",
    "        self.y = pY\n",
    "    \n",
    "    ## Méthode d'affichage (convention __str__)\n",
    "    def __str__(self):\n",
    "        return \"x : \" + self.x + \" y : \" + self.y\n",
    "    \n",
    "    def Addition(self, vecteur):\n",
    "        x = self.x + vecteur.x\n",
    "        y = self.y + vecteur.y\n",
    "        return (\"Addition des deux vecteurs donne le vecteur suivant : x=\" + str(x) + \", y=\" + str(y))\n",
    "    \n",
    "v1 = Vecteur2D(3,4)\n",
    "v2 = Vecteur2D(5,6)\n",
    "print(v1.Addition(v2))\n",
    "\n",
    "### Exo3\n",
    "## Class Pile\n",
    "\n",
    "class Pile():\n",
    "    def __init__(self):\n",
    "        self.liste = []\n",
    "        \n",
    "    def push(self, element):\n",
    "        self.liste.append(element)\n",
    "        \n",
    "    def pop(self):\n",
    "        ## il faut mettre del\n",
    "        del self.liste[-1]\n",
    "        \n",
    "    ## parcours de l'éléments 1 à -1 = dernier\n",
    "    def __str__(self):\n",
    "        return str(self.liste)[1:-1]\n",
    "    \n",
    "liste = Pile()\n",
    "liste.push(456)\n",
    "liste.push(4)\n",
    "liste.pop()\n",
    "liste.__str__()"
   ]
  },
  {
   "cell_type": "code",
   "execution_count": null,
   "metadata": {},
   "outputs": [],
   "source": []
  },
  {
   "cell_type": "code",
   "execution_count": null,
   "metadata": {},
   "outputs": [],
   "source": []
  },
  {
   "cell_type": "code",
   "execution_count": null,
   "metadata": {},
   "outputs": [],
   "source": []
  },
  {
   "cell_type": "code",
   "execution_count": null,
   "metadata": {},
   "outputs": [],
   "source": []
  }
 ],
 "metadata": {
  "kernelspec": {
   "display_name": "Python 3",
   "language": "python",
   "name": "python3"
  },
  "language_info": {
   "codemirror_mode": {
    "name": "ipython",
    "version": 3
   },
   "file_extension": ".py",
   "mimetype": "text/x-python",
   "name": "python",
   "nbconvert_exporter": "python",
   "pygments_lexer": "ipython3",
   "version": "3.7.6"
  }
 },
 "nbformat": 4,
 "nbformat_minor": 4
}
